{
 "cells": [
  {
   "cell_type": "code",
   "execution_count": 7,
   "id": "8420f7d4",
   "metadata": {
    "scrolled": true
   },
   "outputs": [
    {
     "name": "stdout",
     "output_type": "stream",
     "text": [
      "원하는 단 : 7\n",
      "7*1 = 7\n",
      "7*2 = 14\n",
      "7*3 = 21\n",
      "7*4 = 28\n",
      "7*5 = 35\n",
      "7*6 = 42\n",
      "7*7 = 49\n",
      "7*8 = 56\n",
      "7*9 = 63\n"
     ]
    }
   ],
   "source": [
    "# while문을 사용한 구구단\n",
    "dan = int(input(\"원하는 단 : \"))\n",
    "i = 1\n",
    "\n",
    "while i <= 9 :\n",
    "    print(\"%d*%d = %d\" %(dan,i,dan*i))\n",
    "    i=i+1\n"
   ]
  },
  {
   "cell_type": "code",
   "execution_count": 9,
   "id": "0fda9ee8",
   "metadata": {},
   "outputs": [
    {
     "name": "stdout",
     "output_type": "stream",
     "text": [
      "1부터 100 사이의 숫자를 맞추세요\n",
      "숫자를 입력하세요 : 50\n",
      "답보다 작음\n",
      "숫자를 입력하세요 : 75\n",
      "답보다 큼\n",
      "숫자를 입력하세요 : 63\n",
      "축하합니다. 시도횟수 =  3\n"
     ]
    }
   ],
   "source": [
    "###### 1~100 사이의 숫자 맞추기 게임\n",
    "import random\n",
    "tries = 0\n",
    "guess = 0\n",
    "answer = random.randint(1,100)\n",
    "\n",
    "print(\"1부터 100 사이의 숫자를 맞추세요\")\n",
    "while guess != answer :\n",
    "    guess = int(input(\"숫자를 입력하세요 : \"))\n",
    "    tries = tries + 1\n",
    "    if( guess < answer ) :\n",
    "        print(\"답보다 작음\")\n",
    "    elif( guess > answer ) :\n",
    "        print(\"답보다 큼\")\n",
    "\n",
    "if(guess == answer) :\n",
    "    print(\"축하합니다. 시도횟수 = \",tries)\n",
    "else :\n",
    "    print(\"정답은\",answer)"
   ]
  }
 ],
 "metadata": {
  "kernelspec": {
   "display_name": "Python 3 (ipykernel)",
   "language": "python",
   "name": "python3"
  },
  "language_info": {
   "codemirror_mode": {
    "name": "ipython",
    "version": 3
   },
   "file_extension": ".py",
   "mimetype": "text/x-python",
   "name": "python",
   "nbconvert_exporter": "python",
   "pygments_lexer": "ipython3",
   "version": "3.9.12"
  }
 },
 "nbformat": 4,
 "nbformat_minor": 5
}

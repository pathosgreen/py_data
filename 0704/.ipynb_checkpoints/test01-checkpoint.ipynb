{
 "cells": [
  {
   "cell_type": "code",
   "execution_count": 1,
   "id": "e46dccd0",
   "metadata": {},
   "outputs": [
    {
     "name": "stdout",
     "output_type": "stream",
     "text": [
      "동전 던지기 게임을 시작합니다.\n",
      "앞면입니다.\n",
      "게임이 종료되었습니다.\n"
     ]
    }
   ],
   "source": [
    "# 동전 던지기 게임\n",
    "import random\n",
    "\n",
    "print(\"동전 던지기 게임을 시작합니다.\")\n",
    "coin = random.randrange(2)\n",
    "if coin == 0 :\n",
    "    print(\"앞면입니다.\")\n",
    "else :\n",
    "    print(\"뒷면입니다.\")\n",
    "print(\"게임이 종료되었습니다.\")"
   ]
  },
  {
   "cell_type": "code",
   "execution_count": 2,
   "id": "13f1895a",
   "metadata": {},
   "outputs": [
    {
     "name": "stdout",
     "output_type": "stream",
     "text": [
      "배송지(현재는 korea와 us만 가능) : 1\n",
      "상품의 가격 : 1\n",
      "배송비 =  8000\n"
     ]
    }
   ],
   "source": [
    "# 배송비 프로그램\n",
    "country = input(\"배송지(현재는 korea와 us만 가능) : \")\n",
    "price = int(input(\"상품의 가격 : \"))\n",
    "\n",
    "# 배송비를 결정한다\n",
    "if country == \"korea\" :\n",
    "    if price >= 20000 :\n",
    "        shipping_cost = 0\n",
    "    else :\n",
    "        shipping_cost = 3000\n",
    "else :\n",
    "    if price >= 100000 :\n",
    "        shipping_cost = 0\n",
    "    else :\n",
    "        shipping_cost = 8000\n",
    "\n",
    "# 배송비를 출력\n",
    "print(\"배송비 = \",shipping_cost)"
   ]
  },
  {
   "cell_type": "code",
   "execution_count": 3,
   "id": "d59133c9",
   "metadata": {},
   "outputs": [
    {
     "name": "stdout",
     "output_type": "stream",
     "text": [
      "리히터 규모를 입력 : 1\n",
      "지진계에 의해서만 탐지 가능합니다.\n"
     ]
    }
   ],
   "source": [
    "# 리히터 규모를 받아서 피해정도를 출력\n",
    "scale = float(input(\"리히터 규모를 입력 : \"))\n",
    "if scale >= 8.0 :\n",
    "    print(\"대부분의 구조물이 파괴됩니다.\")\n",
    "elif scale >= 7.0 :\n",
    "    print(\"지표면에 균열이 발생합니다.\")\n",
    "elif scale >= 4.0 :\n",
    "    print(\"빈약한 건물에 큰 피해가 있습니다.\")\n",
    "elif scale >= 2.0 :\n",
    "    print(\"물건들이 흔들리거나 떨어집니다.\")\n",
    "else :\n",
    "    print(\"지진계에 의해서만 탐지 가능합니다.\")"
   ]
  },
  {
   "cell_type": "code",
   "execution_count": 4,
   "id": "07dc737b",
   "metadata": {},
   "outputs": [
    {
     "name": "stdout",
     "output_type": "stream",
     "text": [
      "나 파이썬이야!\n",
      "나 파이썬이야!\n",
      "나 파이썬이야!\n",
      "나 파이썬이야!\n",
      "나 파이썬이야!\n"
     ]
    }
   ],
   "source": [
    "# 파이썬의 for문 특징 - in->range\n",
    "\n",
    "for i in range(5) :\n",
    "    print(\"나 파이썬이야!\")"
   ]
  },
  {
   "cell_type": "code",
   "execution_count": 5,
   "id": "9066611c",
   "metadata": {},
   "outputs": [
    {
     "name": "stdout",
     "output_type": "stream",
     "text": [
      "[1, '하나', 6, 7.4]\n"
     ]
    }
   ],
   "source": [
    "# 파이썬은 배열이 존재하지 않고 리스트를 사용함.\n",
    "List = []\n",
    "List.append(1)\n",
    "List.append(\"하나\")\n",
    "List.append(6)\n",
    "List.append(7.4)\n",
    "\n",
    "print(List)"
   ]
  },
  {
   "cell_type": "code",
   "execution_count": 6,
   "id": "6659debb",
   "metadata": {},
   "outputs": [
    {
     "name": "stdout",
     "output_type": "stream",
     "text": [
      "7.4\n",
      "6\n"
     ]
    }
   ],
   "source": [
    "print(List[3])\n",
    "print(List[-2])"
   ]
  },
  {
   "cell_type": "code",
   "execution_count": 7,
   "id": "5dcb8a3b",
   "metadata": {},
   "outputs": [
    {
     "name": "stdout",
     "output_type": "stream",
     "text": [
      "1\n",
      "하나\n",
      "6\n",
      "7.4\n"
     ]
    }
   ],
   "source": [
    "# 리스트 출력\n",
    "for i in range(4) :\n",
    "    print(List[i])"
   ]
  },
  {
   "cell_type": "code",
   "execution_count": 8,
   "id": "eb0614cd",
   "metadata": {},
   "outputs": [
    {
     "name": "stdout",
     "output_type": "stream",
     "text": [
      "1\n",
      "하나\n",
      "6\n",
      "7.4\n"
     ]
    }
   ],
   "source": [
    "# 리스트 모두 출력\n",
    "for i in List :\n",
    "    print(i)"
   ]
  },
  {
   "cell_type": "code",
   "execution_count": 9,
   "id": "84629047",
   "metadata": {},
   "outputs": [
    {
     "name": "stdout",
     "output_type": "stream",
     "text": [
      "10 9 8 7 6 5 4 3 2 1 "
     ]
    }
   ],
   "source": [
    "# 숫자를 역으로 출력\n",
    "for i in range(10,0,-1) :\n",
    "    print(i, end=\" \")"
   ]
  },
  {
   "cell_type": "code",
   "execution_count": 10,
   "id": "42370b95",
   "metadata": {},
   "outputs": [
    {
     "name": "stdout",
     "output_type": "stream",
     "text": [
      "9 *  2  =  18\n",
      "9 *  3  =  27\n",
      "9 *  4  =  36\n",
      "9 *  5  =  45\n",
      "9 *  6  =  54\n",
      "9 *  7  =  63\n",
      "9 *  8  =  72\n",
      "9 *  9  =  81\n"
     ]
    }
   ],
   "source": [
    "# 구구단 출력\n",
    "for i in range(2,10) :\n",
    "    print(\"9 * \",i,\" = \",9*i)"
   ]
  },
  {
   "cell_type": "code",
   "execution_count": 11,
   "id": "23680a66",
   "metadata": {},
   "outputs": [
    {
     "name": "stdout",
     "output_type": "stream",
     "text": [
      "정수를 입력 : 1\n",
      "1 !은  1 이다\n"
     ]
    }
   ],
   "source": [
    "# 팩토리얼 계산\n",
    "n = int(input(\"정수를 입력 : \"))\n",
    "fact = 1\n",
    "for i in range(1, n+1) :\n",
    "    fact = fact * i\n",
    "print(n, \"!은 \",fact,\"이다\")"
   ]
  },
  {
   "cell_type": "code",
   "execution_count": 1,
   "id": "75b58878",
   "metadata": {
    "scrolled": false
   },
   "outputs": [
    {
     "ename": "Terminator",
     "evalue": "",
     "output_type": "error",
     "traceback": [
      "\u001b[1;31m---------------------------------------------------------------------------\u001b[0m",
      "\u001b[1;31mTerminator\u001b[0m                                Traceback (most recent call last)",
      "Input \u001b[1;32mIn [1]\u001b[0m, in \u001b[0;36m<cell line: 14>\u001b[1;34m()\u001b[0m\n\u001b[0;32m     11\u001b[0m     t\u001b[38;5;241m.\u001b[39mleft(\u001b[38;5;241m360\u001b[39m\u001b[38;5;241m/\u001b[39mn)\n\u001b[0;32m     13\u001b[0m turtle\u001b[38;5;241m.\u001b[39mmainloop()\n\u001b[1;32m---> 14\u001b[0m \u001b[43mturtle\u001b[49m\u001b[38;5;241;43m.\u001b[39;49m\u001b[43mbye\u001b[49m\u001b[43m(\u001b[49m\u001b[43m)\u001b[49m\n",
      "File \u001b[1;32m<string>:5\u001b[0m, in \u001b[0;36mbye\u001b[1;34m()\u001b[0m\n",
      "\u001b[1;31mTerminator\u001b[0m: "
     ]
    }
   ],
   "source": [
    "# n각형 그리기\n",
    "import turtle\n",
    "t = turtle.Turtle()\n",
    "t.shape(\"turtle\")\n",
    "\n",
    "s = turtle.textinput(\"\",\"몇각형을 원하시나요? : \")\n",
    "n = int(s)\n",
    "\n",
    "for i in range(n) :\n",
    "    t.forward(50)\n",
    "    t.left(360/n)\n",
    "    \n",
    "turtle.mainloop()\n",
    "turtle.bye()"
   ]
  },
  {
   "cell_type": "markdown",
   "id": "326e276d",
   "metadata": {},
   "source": [
    "$$f(x) = x^{2}-x-1$$"
   ]
  },
  {
   "cell_type": "code",
   "execution_count": 2,
   "id": "9ebe0b01",
   "metadata": {},
   "outputs": [
    {
     "name": "stdout",
     "output_type": "stream",
     "text": [
      "방정식의 해는  1.62\n"
     ]
    }
   ],
   "source": [
    "# 방정식의 해 계싼\n",
    "COUNT = 100\n",
    "START = 1.0\n",
    "END = 2.0\n",
    "\n",
    "for i in range(COUNT) :\n",
    "    x = START + i*((END-START)/COUNT)\n",
    "    f = (x**2 - x - 1)\n",
    "    if abs(f-0.0) < 0.01 :\n",
    "        print(\"방정식의 해는 \", x)\n"
   ]
  },
  {
   "cell_type": "code",
   "execution_count": 6,
   "id": "d79227c7",
   "metadata": {},
   "outputs": [
    {
     "name": "stdout",
     "output_type": "stream",
     "text": [
      "합계 : 55\n"
     ]
    }
   ],
   "source": [
    "# while 사용 예제\n",
    "# 제어 변수를 선언\n",
    "i = 1\n",
    "sum = 0\n",
    "\n",
    "# i 값이 10보다 작거나 같으면 반복\n",
    "while i <= 10 :\n",
    "    sum = sum+i\n",
    "    i = i+1\n",
    "\n",
    "print(\"합계 :\", sum)"
   ]
  }
 ],
 "metadata": {
  "kernelspec": {
   "display_name": "Python 3 (ipykernel)",
   "language": "python",
   "name": "python3"
  },
  "language_info": {
   "codemirror_mode": {
    "name": "ipython",
    "version": 3
   },
   "file_extension": ".py",
   "mimetype": "text/x-python",
   "name": "python",
   "nbconvert_exporter": "python",
   "pygments_lexer": "ipython3",
   "version": "3.9.12"
  }
 },
 "nbformat": 4,
 "nbformat_minor": 5
}

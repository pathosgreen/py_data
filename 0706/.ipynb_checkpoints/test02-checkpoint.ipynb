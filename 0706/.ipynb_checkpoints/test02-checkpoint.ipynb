{
 "cells": [
  {
   "cell_type": "code",
   "execution_count": 1,
   "id": "9a87ff31",
   "metadata": {},
   "outputs": [
    {
     "ename": "Terminator",
     "evalue": "",
     "output_type": "error",
     "traceback": [
      "\u001b[1;31m---------------------------------------------------------------------------\u001b[0m",
      "\u001b[1;31mTerminator\u001b[0m                                Traceback (most recent call last)",
      "Input \u001b[1;32mIn [1]\u001b[0m, in \u001b[0;36m<cell line: 19>\u001b[1;34m()\u001b[0m\n\u001b[0;32m     16\u001b[0m square(\u001b[38;5;241m100\u001b[39m)\n\u001b[0;32m     18\u001b[0m turtle\u001b[38;5;241m.\u001b[39mmainloop()\n\u001b[1;32m---> 19\u001b[0m \u001b[43mturtle\u001b[49m\u001b[38;5;241;43m.\u001b[39;49m\u001b[43mbye\u001b[49m\u001b[43m(\u001b[49m\u001b[43m)\u001b[49m\n",
      "File \u001b[1;32m<string>:5\u001b[0m, in \u001b[0;36mbye\u001b[1;34m()\u001b[0m\n",
      "\u001b[1;31mTerminator\u001b[0m: "
     ]
    }
   ],
   "source": [
    "import turtle\n",
    "t = turtle.Turtle()\n",
    "t.shape(\"turtle\")\n",
    "\n",
    "def square(length) :\n",
    "    t.down()\n",
    "    for i in range(4) :\n",
    "        t.forward(length)\n",
    "        t.left(90)\n",
    "    t.up()\n",
    "\n",
    "square(100)\n",
    "t.forward(120)\n",
    "square(100)\n",
    "t.forward(120)\n",
    "square(100)\n",
    "\n",
    "turtle.mainloop()\n",
    "turtle.bye()"
   ]
  },
  {
   "cell_type": "code",
   "execution_count": 5,
   "id": "c0e60ab9",
   "metadata": {},
   "outputs": [],
   "source": [
    "# 나무 그리기\n",
    "import turtle\n",
    "\n",
    "def drawTree(branch,t) :\n",
    "    if branch > 5 :\n",
    "        t.forward(branch)\n",
    "        t.right(20)\n",
    "        drawTree(branch-15,t)\n",
    "        t.left(40)\n",
    "        drawTree(branch-15,t)\n",
    "        t.right(20)\n",
    "        t.backward(branch)\n",
    "        \n",
    "def main() :\n",
    "    t = turtle.Turtle()\n",
    "    window = turtle.Screen()\n",
    "    t.left(90)\n",
    "    t.up()\n",
    "    t.backward(200)\n",
    "    t.down()\n",
    "    t.color(\"green\")\n",
    "    drawTree(100,t)\n",
    "    window.exitonclick()\n",
    "\n",
    "main()"
   ]
  }
 ],
 "metadata": {
  "kernelspec": {
   "display_name": "Python 3 (ipykernel)",
   "language": "python",
   "name": "python3"
  },
  "language_info": {
   "codemirror_mode": {
    "name": "ipython",
    "version": 3
   },
   "file_extension": ".py",
   "mimetype": "text/x-python",
   "name": "python",
   "nbconvert_exporter": "python",
   "pygments_lexer": "ipython3",
   "version": "3.9.12"
  }
 },
 "nbformat": 4,
 "nbformat_minor": 5
}

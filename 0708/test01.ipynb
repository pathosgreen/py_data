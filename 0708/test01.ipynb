{
 "cells": [
  {
   "cell_type": "code",
   "execution_count": 2,
   "id": "b979c286",
   "metadata": {},
   "outputs": [
    {
     "name": "stdout",
     "output_type": "stream",
     "text": [
      "------------\n",
      "1. 친구 리스트 출력\n",
      "2. 친구추가\n",
      "3. 친구삭제\n",
      "4. 이름변경\n",
      "9. 종료\n",
      "------------\n",
      "메뉴를 선택 : 1\n",
      "[]\n",
      "------------\n",
      "1. 친구 리스트 출력\n",
      "2. 친구추가\n",
      "3. 친구삭제\n",
      "4. 이름변경\n",
      "9. 종료\n",
      "------------\n",
      "메뉴를 선택 : 2\n",
      "이름을 입력하세요 : 솔\n",
      "------------\n",
      "1. 친구 리스트 출력\n",
      "2. 친구추가\n",
      "3. 친구삭제\n",
      "4. 이름변경\n",
      "9. 종료\n",
      "------------\n",
      "메뉴를 선택 : 1\n",
      "['솔']\n",
      "------------\n",
      "1. 친구 리스트 출력\n",
      "2. 친구추가\n",
      "3. 친구삭제\n",
      "4. 이름변경\n",
      "9. 종료\n",
      "------------\n",
      "메뉴를 선택 : 4\n",
      "변경할 사람의 이름을 입력하세요 : 솔\n",
      "새로운 이름을 입력하세요 : 솔솔\n",
      "------------\n",
      "1. 친구 리스트 출력\n",
      "2. 친구추가\n",
      "3. 친구삭제\n",
      "4. 이름변경\n",
      "9. 종료\n",
      "------------\n",
      "메뉴를 선택 : 1\n",
      "['솔솔']\n",
      "------------\n",
      "1. 친구 리스트 출력\n",
      "2. 친구추가\n",
      "3. 친구삭제\n",
      "4. 이름변경\n",
      "9. 종료\n",
      "------------\n",
      "메뉴를 선택 : 3\n",
      "삭제할 이름을 입력하세요 : 솔솔\n",
      "------------\n",
      "1. 친구 리스트 출력\n",
      "2. 친구추가\n",
      "3. 친구삭제\n",
      "4. 이름변경\n",
      "9. 종료\n",
      "------------\n",
      "메뉴를 선택 : 1\n",
      "[]\n",
      "------------\n",
      "1. 친구 리스트 출력\n",
      "2. 친구추가\n",
      "3. 친구삭제\n",
      "4. 이름변경\n",
      "9. 종료\n",
      "------------\n",
      "메뉴를 선택 : 9\n"
     ]
    }
   ],
   "source": [
    "menu = 0\n",
    "friends = []\n",
    "while menu != 9 :\n",
    "    print(\"------------\")\n",
    "    print(\"1. 친구 리스트 출력\")\n",
    "    print(\"2. 친구추가\")\n",
    "    print(\"3. 친구삭제\")\n",
    "    print(\"4. 이름변경\")\n",
    "    print(\"9. 종료\")\n",
    "    print(\"------------\")\n",
    "    menu = int(input(\"메뉴를 선택 : \"))\n",
    "    if menu == 1 :\n",
    "        print(friends)\n",
    "    elif menu == 2 :\n",
    "        name = input(\"이름을 입력하세요 : \")\n",
    "        friends.append(name)\n",
    "    elif menu == 3 :\n",
    "        del_name = input(\"삭제할 이름을 입력하세요 : \")\n",
    "        if del_name in friends :\n",
    "            friends.remove(del_name)\n",
    "        else :\n",
    "            print(\"이름이 발견되지 않았습니다.\")\n",
    "    elif menu == 4 :\n",
    "        old_name = input(\"변경할 사람의 이름을 입력하세요 : \")\n",
    "        if old_name in friends :\n",
    "            index = friends.index(old_name)\n",
    "            new_name = input(\"새로운 이름을 입력하세요 : \")\n",
    "            friends[index] = new_name\n",
    "        else : \n",
    "            print(\"이름이 발견되지 않았습니다.\")\n",
    "    \n"
   ]
  },
  {
   "cell_type": "code",
   "execution_count": 7,
   "id": "57ee3323",
   "metadata": {},
   "outputs": [
    {
     "name": "stdout",
     "output_type": "stream",
     "text": [
      "병합 : ['아이언맨', '토르', '헐크', '스칼렛']\n",
      "반복 : [1, 2, 3, 4, 1, 2, 3, 4, 1, 2, 3, 4]\n",
      "비교 list1==list2 : True\n",
      "비교 list2==list3 : False\n"
     ]
    }
   ],
   "source": [
    "# 리스트 병합, 복제, 비교\n",
    "# 병합\n",
    "heroes1 = [\"아이언맨\",\"토르\"]\n",
    "heroes2 = [\"헐크\",\"스칼렛\"]\n",
    "avengers = heroes1+heroes2\n",
    "print(\"병합 :\",avengers)\n",
    "# 복제\n",
    "numbers = [1,2,3,4]*3\n",
    "print(\"반복 :\",numbers)\n",
    "# 비교\n",
    "list1 = [1,2,3,4]\n",
    "list2 = [1,2,3,4]\n",
    "list3 = [3,4,5,6]\n",
    "print(\"비교 list1==list2 :\",list1==list2)\n",
    "print(\"비교 list2==list3 :\",list2==list3)"
   ]
  },
  {
   "cell_type": "code",
   "execution_count": 9,
   "id": "c6634823",
   "metadata": {},
   "outputs": [
    {
     "name": "stdout",
     "output_type": "stream",
     "text": [
      "[38, 31, 33, 35, 27, 26, 25]\n",
      "[38, 31, 33, 39, 27, 26, 25]\n",
      "2418489130432\n",
      "2418489130432\n"
     ]
    }
   ],
   "source": [
    "#리스트 복사\n",
    "temps = [38,31,33,35,27,26,25]\n",
    "values = temps\n",
    "\n",
    "print(temps)\n",
    "values[3] = 39\n",
    "print(temps)\n",
    "print(id(temps))\n",
    "print(id(values))"
   ]
  },
  {
   "cell_type": "code",
   "execution_count": 10,
   "id": "491891aa",
   "metadata": {
    "scrolled": true
   },
   "outputs": [
    {
     "name": "stdout",
     "output_type": "stream",
     "text": [
      "2418379418032\n",
      "2418379418032\n",
      "2418379418032\n",
      "2418379418096\n"
     ]
    }
   ],
   "source": [
    "a = 5\n",
    "b = 5\n",
    "print(id(a))\n",
    "print(id(b))\n",
    "a = 5\n",
    "b = 7\n",
    "print(id(a))\n",
    "print(id(b))"
   ]
  },
  {
   "cell_type": "code",
   "execution_count": 13,
   "id": "32550eb8",
   "metadata": {},
   "outputs": [
    {
     "name": "stdout",
     "output_type": "stream",
     "text": [
      "수행시간 = 3.004457712173462\n",
      "수행시간 = 0.006981611251831055\n"
     ]
    }
   ],
   "source": [
    "# 리스트 추가 방법에 따른 시간 테스트\n",
    "import time\n",
    "SIZE = 50000\n",
    "\n",
    "start_time = time.time()\n",
    "myList = []\n",
    "for i in range(SIZE) :\n",
    "    myList = myList + [i*i] # 대입은 재설정\n",
    "    \n",
    "print(\"수행시간 =\",time.time() - start_time)\n",
    "\n",
    "start_time = time.time()\n",
    "myList = []\n",
    "for i in range(SIZE) :\n",
    "    myList.append(i*i) # 단순히 추가\n",
    "    \n",
    "print(\"수행시간 =\",time.time() - start_time)"
   ]
  },
  {
   "cell_type": "code",
   "execution_count": 25,
   "id": "44c4b492",
   "metadata": {
    "scrolled": true
   },
   "outputs": [
    {
     "name": "stdout",
     "output_type": "stream",
     "text": [
      "[30, 40, 50, 60, 70]\n",
      "[10, 20, 30]\n",
      "[40, 50, 60, 70, 80, 90]\n",
      "[10, 20, 30, 40, 50, 60, 70, 80, 90]\n"
     ]
    }
   ],
   "source": [
    "# 슬라이싱 - 한 번에 여러 개의 항목을 추출하는 기법\n",
    "\n",
    "numbers = [10,20,30,40,50,60,70,80,90]\n",
    "sublist = numbers[2:7]\n",
    "print(sublist)\n",
    "prelist = numbers[:3]\n",
    "print(prelist)\n",
    "postlist = numbers[3:]\n",
    "print(postlist)\n",
    "alllist = numbers[:]\n",
    "print(alllist)"
   ]
  },
  {
   "cell_type": "code",
   "execution_count": 27,
   "id": "d3944bfa",
   "metadata": {
    "scrolled": true
   },
   "outputs": [
    {
     "name": "stdout",
     "output_type": "stream",
     "text": [
      "[30, 50, 70]\n",
      "[90, 80, 70, 60, 50, 40, 30, 20, 10]\n"
     ]
    }
   ],
   "source": [
    "numbers = [10,20,30,40,50,60,70,80,90]\n",
    "sublist = numbers[2:7:2]\n",
    "print(sublist)\n",
    "\n",
    "revNumber = numbers[::-1]\n",
    "print(revNumber)"
   ]
  },
  {
   "cell_type": "code",
   "execution_count": 5,
   "id": "725b7b47",
   "metadata": {},
   "outputs": [
    {
     "name": "stdout",
     "output_type": "stream",
     "text": [
      "['white', 'blue', 'red', 4, 5, 6, 7, 8]\n",
      "[99, 2, 99, 4, 99, 6, 99, 8]\n",
      "[]\n",
      ">= [0, 1, 4, 9, 16, 25, 36, 49, 64, 81]\n",
      ">= [0, 4, 16, 36, 64]\n"
     ]
    }
   ],
   "source": [
    "lst = [1,2,3,4,5,6,7,8]\n",
    "lst[0:3] = ['white','blue','red']\n",
    "print(lst)\n",
    "\n",
    "lst = [1,2,3,4,5,6,7,8]\n",
    "lst[::2] = [99,99,99,99]\n",
    "print(lst)\n",
    "\n",
    "lst = [1,2,3,4,5,6,7,8]\n",
    "lst[:] = []\n",
    "print(lst)\n",
    "\n",
    "# 출력식 : 입력리스트\n",
    "squares = [x*x for x in range(10)]\n",
    "print(\">=\", squares)\n",
    "# 출력식 : 입력리스트 : 조건식\n",
    "squares = [x*x for x in range(10) if x %2 == 0]\n",
    "print(\">=\", squares)"
   ]
  },
  {
   "cell_type": "code",
   "execution_count": 20,
   "id": "12b3f920",
   "metadata": {},
   "outputs": [
    {
     "name": "stdout",
     "output_type": "stream",
     "text": [
      "('apple', 'banana', 'grape')\n",
      "apple\n",
      "apple banana grape \n",
      "[1, 2, 3, 4]\n",
      "set = {1, 2, 3}\n",
      "set = {1, 2, 3, 4, 5}\n",
      "x=%2 {2, 4}\n",
      "교집합 = {'banana', 'apple'}\n",
      "합집합 = {'kiwi', 'banana', 'grape', 'apple'}\n",
      "차집합 = {'grape'}\n"
     ]
    }
   ],
   "source": [
    "# 튜플 / 딕셔널; / 세트\n",
    "# 튜플 - 변경불가\n",
    "fruits = (\"apple\",\"banana\",\"grape\")\n",
    "print(fruits)\n",
    "print(fruits[0])\n",
    "for f in fruits :\n",
    "    print(f, end=\" \")\n",
    "    \n",
    "# 튜플을 리스트로\n",
    "myTuple = (1,2,3,4)\n",
    "myList = list(myTuple)\n",
    "print()\n",
    "print(myList)\n",
    "\n",
    "# 세트 - 중복불가 - {}\n",
    "numbers = {1,2,3}\n",
    "print(\"set =\", numbers)\n",
    "numbers = set([1,2,2,3,4,5,5]) # 중복을 허용하지 않음\n",
    "print(\"set =\",numbers)\n",
    "\n",
    "# 세트 함축 연산\n",
    "aList = [1,2,3,4,5,1,2]\n",
    "result = {x for x in aList if x %2 == 0}\n",
    "print(\"x=%2\", result)\n",
    "\n",
    "# 세트 - 교집합 / 합집합 / 차집합\n",
    "A = {\"apple\",\"banana\",\"grape\"}\n",
    "B = {\"apple\",\"banana\",\"kiwi\"}\n",
    "C = A & B\n",
    "D = A | B\n",
    "E = A - B\n",
    "print(\"교집합 =\", C)\n",
    "print(\"합집합 =\", D)\n",
    "print(\"차집합 =\", E)"
   ]
  },
  {
   "cell_type": "code",
   "execution_count": 32,
   "id": "415d564c",
   "metadata": {},
   "outputs": [
    {
     "name": "stdout",
     "output_type": "stream",
     "text": [
      "Seoul\n",
      "Washington\n",
      "Korea USA UK \n",
      "Seoul Washington London \n",
      "Korea Seoul USA Washington UK London \n",
      "{2: 4, 4: 16, 6: 36}\n"
     ]
    }
   ],
   "source": [
    "# 딕셔너리 - key/value - {}\n",
    "capitals = {\"Korea\":\"Seoul\",\"USA\":\"Washington\",\"UK\":\"London\"}\n",
    "print(capitals[\"Korea\"])\n",
    "print(capitals[\"USA\"])\n",
    "for key in capitals : # 키 출력\n",
    "    print(key, end =\" \")\n",
    "print()\n",
    "for key in capitals : # 값 출력\n",
    "    print(capitals[key], end = \" \")\n",
    "print()\n",
    "for key in capitals : # 키와 값 출력\n",
    "    print(key,capitals[key], end = \" \")\n",
    "print()\n",
    "# 딕셔너리 함축\n",
    "values = [1,2,3,4,5,6]\n",
    "dic = {x: x**2 for x in values if x%2 == 0}\n",
    "print(dic)"
   ]
  }
 ],
 "metadata": {
  "kernelspec": {
   "display_name": "Python 3 (ipykernel)",
   "language": "python",
   "name": "python3"
  },
  "language_info": {
   "codemirror_mode": {
    "name": "ipython",
    "version": 3
   },
   "file_extension": ".py",
   "mimetype": "text/x-python",
   "name": "python",
   "nbconvert_exporter": "python",
   "pygments_lexer": "ipython3",
   "version": "3.9.12"
  }
 },
 "nbformat": 4,
 "nbformat_minor": 5
}

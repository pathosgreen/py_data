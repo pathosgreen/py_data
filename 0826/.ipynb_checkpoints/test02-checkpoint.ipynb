{
 "cells": [
  {
   "cell_type": "code",
   "execution_count": null,
   "id": "ce96fa07",
   "metadata": {},
   "outputs": [],
   "source": [
    "# 대중 교통 데이터 분석 - 데이터 불러오기\n",
    "import csv\n",
    "f=open('subway_free.csv')\n",
    "data = csv.reader(f)\n",
    "\n",
    "next(data)\n",
    "\n",
    "for row in data:\n",
    "    print(row)"
   ]
  },
  {
   "cell_type": "code",
   "execution_count": null,
   "id": "9bcbc7b7",
   "metadata": {},
   "outputs": [],
   "source": [
    "# 대중 교통 데이터 분석 - 인원을 숫자로 변경\n",
    "import csv\n",
    "f=open('subway_free.csv')\n",
    "data = csv.reader(f)\n",
    "\n",
    "next(data)\n",
    "\n",
    "for row in data:\n",
    "    for i in range(4,8):\n",
    "        row[i] = int(row[i])\n",
    "    print(row)"
   ]
  },
  {
   "cell_type": "code",
   "execution_count": null,
   "id": "2ca84a2e",
   "metadata": {},
   "outputs": [],
   "source": [
    "# 유,무임 승차 인원을 합쳐 100,000명 이상인 경우만 출력\n",
    "import csv\n",
    "f=open('subway_free.csv')\n",
    "data = csv.reader(f)\n",
    "\n",
    "next(data)\n",
    "\n",
    "for row in data:\n",
    "    for i in range(4,8):\n",
    "        row[i] = int(row[i])\n",
    "    if[6] != 0 and (row[4]+row[6] >= 100000):\n",
    "        print(row)"
   ]
  },
  {
   "cell_type": "code",
   "execution_count": null,
   "id": "aa063eb3",
   "metadata": {},
   "outputs": [],
   "source": [
    "# 유임 승차 인원이 가장 많은 역 찾기\n",
    "import csv\n",
    "f=open('subway_free.csv')\n",
    "data = csv.reader(f)\n",
    "\n",
    "next(data)\n",
    "mx = 0\n",
    "rate = 0\n",
    "mx_station = ''\n",
    "\n",
    "for row in data:\n",
    "    for i in range(4,8):\n",
    "        row[i] = int(row[i])\n",
    "    if[6] != 0 and (row[4]+row[6] >= 100000):\n",
    "        rate = row[4] / (row[4]+row[6])\n",
    "        if rate > mx:\n",
    "            mx = rate\n",
    "            mx_station = row[3]+' '+row[1]\n",
    "print(mx_station, round(mx*100,2))"
   ]
  },
  {
   "cell_type": "code",
   "execution_count": null,
   "id": "a9eb2693",
   "metadata": {},
   "outputs": [],
   "source": [
    "# 유,무임 승하차 인원이 가장 많은 역 찾기\n",
    "import csv\n",
    "f=open('subway_free.csv')\n",
    "data = csv.reader(f)\n",
    "\n",
    "next(data)\n",
    "mx = [0] * 4\n",
    "mx_station = [''] * 4\n",
    "label = ['유임승차','유임하차','무임승차','무임하차']\n",
    "\n",
    "for row in data:\n",
    "    for i in range(4,8):\n",
    "        row[i] = int(row[i])\n",
    "    if row[i] > mx[i-4]:\n",
    "        mx[i-4] = row[i]\n",
    "        mx_station[i-4] = row[3]+' '+row[1]\n",
    "for i in range(4):\n",
    "    print(label[i] + ' : ' + mx_station[i], mx[i])"
   ]
  },
  {
   "cell_type": "code",
   "execution_count": null,
   "id": "d572a892",
   "metadata": {},
   "outputs": [],
   "source": [
    "# 시각화\n",
    "import csv\n",
    "import matplotlib.pyplot as pit\n",
    "\n",
    "f=open('subway_free.csv')\n",
    "data = csv.reader(f)\n",
    "\n",
    "next(data)\n",
    "label = ['유임승차','유임하차','무임승차','무임하차']\n",
    "\n",
    "c = ['#14CCC0','#389993','#FF1C6A','#CC14AF']\n",
    "pit.rc('font',family='Malgun Gothic')\n",
    "for row in data:\n",
    "    for i in range(4,8):\n",
    "        row[i] = int(row[i])\n",
    "        \n",
    "    pit.figure(dpi=300)\n",
    "    pit.title(row[3]+' '+row[1])\n",
    "    pit.pie(row[4:8],labels=label,colors=c,autopct='%1.f%%')\n",
    "    pit.axis('equal')\n",
    "    pit.show()"
   ]
  },
  {
   "cell_type": "code",
   "execution_count": null,
   "id": "5d3b8037",
   "metadata": {},
   "outputs": [],
   "source": [
    "# 차트\n",
    "import csv\n",
    "import matplotlib.pyplot as pit\n",
    "\n",
    "f=open('subway_free.csv')\n",
    "data = csv.reader(f)\n",
    "\n",
    "next(data)\n",
    "label = ['유임승차','유임하차','무임승차','무임하차']\n",
    "\n",
    "c = ['#14CCC0','#389993','#FF1C6A','#CC14AF']\n",
    "pit.rc('font',family='Malgun Gothic')\n",
    "for row in data:\n",
    "    for i in range(4,8):\n",
    "        row[i] = int(row[i])\n",
    "        \n",
    "    pit.figure(dpi=300)\n",
    "    pit.title(row[3]+' '+row[1])\n",
    "    pit.pie(row[4:8],labels=label,colors=c,autopct='%1.f%%')\n",
    "    pit.axis('equal')\n",
    "    pit.savefig('pie_data'+row[3]+' '+row[1]+'.png')\n",
    "    pit.show()"
   ]
  }
 ],
 "metadata": {
  "kernelspec": {
   "display_name": "Python 3 (ipykernel)",
   "language": "python",
   "name": "python3"
  },
  "language_info": {
   "codemirror_mode": {
    "name": "ipython",
    "version": 3
   },
   "file_extension": ".py",
   "mimetype": "text/x-python",
   "name": "python",
   "nbconvert_exporter": "python",
   "pygments_lexer": "ipython3",
   "version": "3.9.12"
  }
 },
 "nbformat": 4,
 "nbformat_minor": 5
}

{
 "cells": [
  {
   "cell_type": "code",
   "execution_count": 1,
   "id": "ebf41916",
   "metadata": {},
   "outputs": [],
   "source": [
    "import turtle"
   ]
  },
  {
   "cell_type": "code",
   "execution_count": null,
   "id": "0502961e",
   "metadata": {},
   "outputs": [],
   "source": [
    "%colors = [\"red\", \"purple\", \"blue\", \"green\", \"yellow\", \"orange\"]\n",
    "t = turtle.Turtle()\n",
    "\n",
    "turtle.bgcolor(\"black\")\n",
    "t.speed(0)\n",
    "t.width(3)\n",
    "length = 10\n",
    "\n",
    "while length < 300 : \n",
    "    t.forward(length)\n",
    "    t.pencolor(colors[length])\n",
    "    t.right(86)\n",
    "    length += 5\n",
    "\n",
    "turtle.mainloop()\n",
    "turtle.bye()"
   ]
  }
 ],
 "metadata": {
  "kernelspec": {
   "display_name": "Python 3 (ipykernel)",
   "language": "python",
   "name": "python3"
  },
  "language_info": {
   "codemirror_mode": {
    "name": "ipython",
    "version": 3
   },
   "file_extension": ".py",
   "mimetype": "text/x-python",
   "name": "python",
   "nbconvert_exporter": "python",
   "pygments_lexer": "ipython3",
   "version": "3.9.12"
  }
 },
 "nbformat": 4,
 "nbformat_minor": 5
}

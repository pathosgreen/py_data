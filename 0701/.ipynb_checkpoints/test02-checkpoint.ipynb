{
 "cells": [
  {
   "cell_type": "markdown",
   "id": "c49a5e9b",
   "metadata": {},
   "source": [
    "## 입력과 출력"
   ]
  },
  {
   "cell_type": "code",
   "execution_count": null,
   "id": "3b4e88f7",
   "metadata": {},
   "outputs": [],
   "source": [
    "name = input(\"이름을 입력하세요 : \")\n",
    "print(name,\"씨. 안녕하세요?\")\n",
    "print(\"파이썬에 오신것을 환영합니다.\")"
   ]
  },
  {
   "cell_type": "code",
   "execution_count": 3,
   "id": "b62bd1d2",
   "metadata": {
    "scrolled": true
   },
   "outputs": [
    {
     "name": "stdout",
     "output_type": "stream",
     "text": [
      "첫 번째 정수를 입력하세요 : 100\n",
      "첫 번째 정수를 입력하세요 : 200\n",
      "합은  300\n"
     ]
    }
   ],
   "source": [
    "s1 = input(\"첫 번째 정수를 입력하세요 : \")\n",
    "x = int(s1)\n",
    "s2 = input(\"첫 번째 정수를 입력하세요 : \")\n",
    "y = int(s2)\n",
    "sum = x + y\n",
    "print(\"합은 \",sum)"
   ]
  },
  {
   "cell_type": "code",
   "execution_count": 11,
   "id": "dd705742",
   "metadata": {},
   "outputs": [
    {
     "name": "stdout",
     "output_type": "stream",
     "text": [
      "면적(제곱미터):77\n",
      "23.333333333333336 평\n"
     ]
    }
   ],
   "source": [
    "# 부동 소수점을 사용\n",
    "# 평수 구하기\n",
    "# eval은 데이터에 따라 실수 또는 정수로 변환\n",
    "SQMETER_PER_P = 3.3\n",
    "\n",
    "area = eval(input(\"면적(제곱미터):\"))\n",
    "py = area / SQMETER_PER_P\n",
    "print(py, \"평\")"
   ]
  },
  {
   "cell_type": "code",
   "execution_count": 13,
   "id": "42dea1fb",
   "metadata": {},
   "outputs": [
    {
     "name": "stdout",
     "output_type": "stream",
     "text": [
      "면적(제곱미터):77\n",
      "23.33 평\n"
     ]
    }
   ],
   "source": [
    "# 형식화된 출력\n",
    "SQMETER_PER_P = 3.3\n",
    "\n",
    "area = eval(input(\"면적(제곱미터):\"))\n",
    "py = area / SQMETER_PER_P\n",
    "print(\"%.2f\"%py, \"평\")"
   ]
  },
  {
   "cell_type": "code",
   "execution_count": 16,
   "id": "e71cf3cd",
   "metadata": {},
   "outputs": [
    {
     "name": "stdout",
     "output_type": "stream",
     "text": [
      "안녕하세요\n",
      "이름이 어떻게 되시나요?솔솔라라솔솔미\n",
      "만나서 반갑습니다.솔솔라라솔솔미씨\n",
      "이름의 길이는 다음과 같군요 :  7\n",
      "나이는 어떻게 되나요? 0\n",
      "내년이면 1살이 되시는군요.\n"
     ]
    }
   ],
   "source": [
    "# 대화형 프로그램\n",
    "print(\"안녕하세요\")\n",
    "name = input(\"이름이 어떻게 되시나요?\")\n",
    "print(\"만나서 반갑습니다.\" + name+\"씨\")\n",
    "print(\"이름의 길이는 다음과 같군요 : \",len(name))\n",
    "\n",
    "age = int(input(\"나이는 어떻게 되나요? \"))\n",
    "print(\"내년이면 \"+str(age+1)+\"살이 되시는군요.\")"
   ]
  },
  {
   "cell_type": "code",
   "execution_count": 19,
   "id": "b0b57900",
   "metadata": {},
   "outputs": [
    {
     "name": "stdout",
     "output_type": "stream",
     "text": [
      "몸무게 kg단위를 입력해주세요. : 50\n",
      "키 cm단위를 입력해주세요. : 170\n",
      "당신의 BMI =  17.301038062283737\n"
     ]
    }
   ],
   "source": [
    "# BMI 계산하기\n",
    "# BMI < 18.50 저체중\n",
    "# BMI 18.50 ~ 24.99 보통\n",
    "# BMI 24.50 ~ 29.99 과체중\n",
    "# BMI >= 30 비만\n",
    "weight = float(input(\"몸무게 kg단위를 입력해주세요. : \"))\n",
    "height = float(input(\"키 cm단위를 입력해주세요. : \"))\n",
    "\n",
    "bmi = (weight / (height**2))*10000\n",
    "print (\"당신의 BMI = \", bmi)"
   ]
  },
  {
   "cell_type": "code",
   "execution_count": 22,
   "id": "553b7372",
   "metadata": {},
   "outputs": [
    {
     "name": "stdout",
     "output_type": "stream",
     "text": [
      "반지름을 입력하세요 : 5.0\n",
      "구의 부피 =     523.60\n"
     ]
    }
   ],
   "source": [
    "# 구의 부피 계산\n",
    "r = float(input(\"반지름을 입력하세요 : \"))\n",
    "\n",
    "# 구의 부피 공식\n",
    "volume = (4.0/3.0)*3.141592*r**3\n",
    "\n",
    "# 구의 부피를 화면에 출력\n",
    "print(\"구의 부피 = %10.2f\"%volume)"
   ]
  }
 ],
 "metadata": {
  "kernelspec": {
   "display_name": "Python 3 (ipykernel)",
   "language": "python",
   "name": "python3"
  },
  "language_info": {
   "codemirror_mode": {
    "name": "ipython",
    "version": 3
   },
   "file_extension": ".py",
   "mimetype": "text/x-python",
   "name": "python",
   "nbconvert_exporter": "python",
   "pygments_lexer": "ipython3",
   "version": "3.9.12"
  }
 },
 "nbformat": 4,
 "nbformat_minor": 5
}

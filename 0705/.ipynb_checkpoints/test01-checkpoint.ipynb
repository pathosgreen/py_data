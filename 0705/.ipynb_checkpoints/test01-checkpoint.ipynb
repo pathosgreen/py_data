{
 "cells": [
  {
   "cell_type": "code",
   "execution_count": 6,
   "id": "805a2a92",
   "metadata": {},
   "outputs": [
    {
     "name": "stdout",
     "output_type": "stream",
     "text": [
      "33+99 132\n",
      "잘했어요.\n",
      "74+811\n",
      "틀렸어요.\n"
     ]
    }
   ],
   "source": [
    "# 산술 문제\n",
    "import random\n",
    "\n",
    "flag = True\n",
    "while flag :\n",
    "    x = random.randint(1,100)\n",
    "    y = random.randint(1,100)\n",
    "    answer = int(input(f\"{x}+{y}\"))\n",
    "    if answer == x + y :\n",
    "        print(\"잘했어요.\")\n",
    "    else :\n",
    "        print(\"틀렸어요.\")\n",
    "        flag = False"
   ]
  },
  {
   "cell_type": "code",
   "execution_count": 3,
   "id": "1940e90e",
   "metadata": {},
   "outputs": [
    {
     "name": "stdout",
     "output_type": "stream",
     "text": [
      "*\n",
      "**\n",
      "***\n",
      "****\n",
      "*****\n"
     ]
    }
   ],
   "source": [
    "# 중첩 반복문\n",
    "for y in range(1, 6) :\n",
    "    for x in range(y) :\n",
    "        print(\"*\",end=\"\")\n",
    "    print(\"\")"
   ]
  },
  {
   "cell_type": "code",
   "execution_count": 8,
   "id": "82c43b88",
   "metadata": {},
   "outputs": [
    {
     "name": "stdout",
     "output_type": "stream",
     "text": [
      "첫번째 주사위 = 1 두번째 주사위 = 5\n",
      "첫번째 주사위 = 2 두번째 주사위 = 4\n",
      "첫번째 주사위 = 3 두번째 주사위 = 3\n",
      "첫번째 주사위 = 4 두번째 주사위 = 2\n",
      "첫번째 주사위 = 5 두번째 주사위 = 1\n"
     ]
    }
   ],
   "source": [
    "# 주사위 2개의 합이 6인 경우를 전부 출력\n",
    "\n",
    "for a in range(1,7) :\n",
    "    for b in range(1,7) :\n",
    "        if a + b == 6 :\n",
    "            print(f\"첫번째 주사위 = {a} 두번째 주사위 = {b}\")"
   ]
  },
  {
   "cell_type": "code",
   "execution_count": 11,
   "id": "71f09e55",
   "metadata": {},
   "outputs": [
    {
     "name": "stdout",
     "output_type": "stream",
     "text": [
      "신호등 색상을 입력 : red\n",
      "신호등 색상을 입력 : yellow\n",
      "신호등 색상을 입력 : green\n",
      "전진\n"
     ]
    }
   ],
   "source": [
    "# 무한 루틴과 break\n",
    "while True :\n",
    "    light = input(\"신호등 색상을 입력 : \")\n",
    "    if light == 'green' :\n",
    "        break\n",
    "\n",
    "print(\"전진\")"
   ]
  },
  {
   "cell_type": "code",
   "execution_count": 15,
   "id": "1e66d5a9",
   "metadata": {},
   "outputs": [
    {
     "name": "stdout",
     "output_type": "stream",
     "text": [
      "1 2 4 5 7 8 10 "
     ]
    }
   ],
   "source": [
    "# 1~10 사이에서 3의 배수가 아니면 출력\n",
    "for i in range(1,11) :\n",
    "    if i % 3 == 0 :\n",
    "        continue\n",
    "    print(i, end=\" \")"
   ]
  },
  {
   "cell_type": "code",
   "execution_count": 23,
   "id": "3b35e08e",
   "metadata": {},
   "outputs": [
    {
     "name": "stdout",
     "output_type": "stream",
     "text": [
      "2 3 5 7 11 13 17 19 23 29 31 37 41 43 47 53 59 61 67 71 73 79 83 89 97 "
     ]
    }
   ],
   "source": [
    "# 1~100 사이에서 소수 출력\n",
    "N_PRIMES = 25\n",
    "number = 2\n",
    "count = 0\n",
    "\n",
    "while count < N_PRIMES :\n",
    "    diviser = 2\n",
    "    prime = True\n",
    "    \n",
    "    while diviser < number :\n",
    "        if number % diviser == 0 :\n",
    "            prime = False\n",
    "            break\n",
    "        diviser += 1\n",
    "    if prime :\n",
    "        count += 1 \n",
    "        print(number, end=\" \")\n",
    "    number += 1 "
   ]
  },
  {
   "cell_type": "code",
   "execution_count": 28,
   "id": "70746290",
   "metadata": {},
   "outputs": [
    {
     "name": "stdout",
     "output_type": "stream",
     "text": [
      "반복횟수 : 1000000\n",
      "PI = 3.141592\n"
     ]
    }
   ],
   "source": [
    "# 파이 값을 계산하는 프로그램 3.1415926535\n",
    "diviser = 1.0\n",
    "divident = 4.0\n",
    "sum = 0.0\n",
    "loop_count = int(input(\"반복횟수 : \"))\n",
    "while (loop_count > 0) :\n",
    "    sum = sum + divident / diviser\n",
    "    divident = -1.0*divident\n",
    "    diviser = diviser + 2\n",
    "    loop_count = loop_count -1\n",
    "print(\"PI = %f\" %sum)"
   ]
  }
 ],
 "metadata": {
  "kernelspec": {
   "display_name": "Python 3 (ipykernel)",
   "language": "python",
   "name": "python3"
  },
  "language_info": {
   "codemirror_mode": {
    "name": "ipython",
    "version": 3
   },
   "file_extension": ".py",
   "mimetype": "text/x-python",
   "name": "python",
   "nbconvert_exporter": "python",
   "pygments_lexer": "ipython3",
   "version": "3.9.12"
  }
 },
 "nbformat": 4,
 "nbformat_minor": 5
}

{
 "cells": [
  {
   "cell_type": "code",
   "execution_count": 1,
   "id": "99de450c",
   "metadata": {
    "scrolled": true
   },
   "outputs": [
    {
     "name": "stdout",
     "output_type": "stream",
     "text": [
      "반지름이 3인 원의 면적 =  28.26\n"
     ]
    }
   ],
   "source": [
    "# 함수 정의\n",
    "def get_area(radius) :\n",
    "    area = 3.14*radius**2\n",
    "    return area\n",
    "\n",
    "result = get_area(3)\n",
    "print(\"반지름이 3인 원의 면적 = \",result)"
   ]
  },
  {
   "cell_type": "code",
   "execution_count": 3,
   "id": "3b3034ec",
   "metadata": {},
   "outputs": [
    {
     "name": "stdout",
     "output_type": "stream",
     "text": [
      "x = 2\n",
      "y = 3\n",
      "z = 5\n"
     ]
    }
   ],
   "source": [
    "# 리턴값이 두개인 사용자 정의 함수 \n",
    "def get_input():\n",
    "    return 2,3,5\n",
    "\n",
    "x,y,z = get_input()\n",
    "print(\"x =\", x)\n",
    "print(\"y =\", y)\n",
    "print(\"z =\", z)"
   ]
  },
  {
   "cell_type": "code",
   "execution_count": 10,
   "id": "80dba73e",
   "metadata": {},
   "outputs": [
    {
     "name": "stdout",
     "output_type": "stream",
     "text": [
      "안녕 철수, 좋은 아침\n"
     ]
    }
   ],
   "source": [
    "# 디폴트 인수 비교용\n",
    "def greet(name,msg) :\n",
    "    print(\"안녕\",name +', '+ msg)\n",
    "\n",
    "greet(\"철수\",\"좋은 아침\")"
   ]
  },
  {
   "cell_type": "code",
   "execution_count": 12,
   "id": "95e44400",
   "metadata": {},
   "outputs": [
    {
     "name": "stdout",
     "output_type": "stream",
     "text": [
      "안녕 영희, 별일없죠?\n",
      "안녕 철수, 잘지내?\n"
     ]
    }
   ],
   "source": [
    "# 디폴트 인수\n",
    "def greet(name,msg=\"별일없죠?\") :\n",
    "    print(\"안녕\",name +', '+ msg)\n",
    "    \n",
    "greet(\"영희\")\n",
    "greet(\"철수\",\"잘지내?\")"
   ]
  }
 ],
 "metadata": {
  "kernelspec": {
   "display_name": "Python 3 (ipykernel)",
   "language": "python",
   "name": "python3"
  },
  "language_info": {
   "codemirror_mode": {
    "name": "ipython",
    "version": 3
   },
   "file_extension": ".py",
   "mimetype": "text/x-python",
   "name": "python",
   "nbconvert_exporter": "python",
   "pygments_lexer": "ipython3",
   "version": "3.9.12"
  }
 },
 "nbformat": 4,
 "nbformat_minor": 5
}

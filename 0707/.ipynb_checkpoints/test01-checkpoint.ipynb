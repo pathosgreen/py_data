{
 "cells": [
  {
   "cell_type": "code",
   "execution_count": 1,
   "id": "325a1bac",
   "metadata": {},
   "outputs": [
    {
     "name": "stdout",
     "output_type": "stream",
     "text": [
      "28, 31, 33, 35, 27, 26, 25, "
     ]
    }
   ],
   "source": [
    "temps = [28,31,33,\"말자\",27,28,25]\n",
    "\n",
    "for element in temps :\n",
    "    print(element, end=', ')"
   ]
  }
 ],
 "metadata": {
  "kernelspec": {
   "display_name": "Python 3 (ipykernel)",
   "language": "python",
   "name": "python3"
  },
  "language_info": {
   "codemirror_mode": {
    "name": "ipython",
    "version": 3
   },
   "file_extension": ".py",
   "mimetype": "text/x-python",
   "name": "python",
   "nbconvert_exporter": "python",
   "pygments_lexer": "ipython3",
   "version": "3.9.12"
  }
 },
 "nbformat": 4,
 "nbformat_minor": 5
}
